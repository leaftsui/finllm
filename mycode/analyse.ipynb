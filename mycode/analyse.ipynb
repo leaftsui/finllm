{
 "cells": [
  {
   "cell_type": "markdown",
   "metadata": {},
   "source": [
    "对错误案例进行分析\\\n",
    "1.通过人工判断正确答案\\\n",
    "2.找到错误的原因\\\n",
    "3.提出解决方案"
   ]
  },
  {
   "cell_type": "code",
   "execution_count": 1,
   "metadata": {},
   "outputs": [],
   "source": [
    "from util import utils"
   ]
  },
  {
   "cell_type": "code",
   "execution_count": 2,
   "metadata": {},
   "outputs": [
    {
     "data": {
      "text/plain": [
       "'{\\n  \"success\": true,\\n  \"data\": [\\n    {\\n      \"Table\": \"lc_conceptlist\",\\n      \"Column\": \"ID\",\\n      \"Type\": \"bigint\",\\n      \"Null\": \"NO\",\\n      \"Precision\": 19,\\n      \"Scale\": 0,\\n      \"Key\": \"PRI\",\\n      \"Comment\": \"ID\"\\n    },\\n    {\\n      \"Table\": \"lc_conceptlist\",\\n      \"Column\": \"ClassCode\",\\n      \"Type\": \"bigint\",\\n      \"Null\": \"YES\",\\n      \"Precision\": 19,\\n      \"Scale\": 0,\\n      \"Key\": \"\",\\n      \"Comment\": \"所属1级概念代码\"\\n    },\\n    {\\n      \"Table\": \"lc_conceptlist\",\\n      \"Column\": \"ClassName\",\\n      \"Type\": \"longtext\",\\n      \"Null\": \"YES\",\\n      \"Precision\": null,\\n      \"Scale\": null,\\n      \"Key\": \"\",\\n      \"Comment\": \"所属1级概念名称\"\\n    },\\n    {\\n      \"Table\": \"lc_conceptlist\",\\n      \"Column\": \"SubclassCode\",\\n      \"Type\": \"bigint\",\\n      \"Null\": \"YES\",\\n      \"Precision\": 19,\\n      \"Scale\": 0,\\n      \"Key\": \"\",\\n      \"Comment\": \"所属2级概念代码\"\\n    },\\n    {\\n      \"Table\": \"lc_conceptlist\",\\n      \"Column\": \"SubclassName\",\\n      \"Type\": \"longtext\",\\n      \"Null\": \"YES\",\\n      \"Precision\": null,\\n      \"Scale\": null,\\n      \"Key\": \"\",\\n      \"Comment\": \"所属2级概念名称\"\\n    },\\n    {\\n      \"Table\": \"lc_conceptlist\",\\n      \"Column\": \"ConceptCode\",\\n      \"Type\": \"bigint\",\\n      \"Null\": \"YES\",\\n      \"Precision\": 19,\\n      \"Scale\": 0,\\n      \"Key\": \"\",\\n      \"Comment\": \"所属概念板块编码\"\\n    },\\n    {\\n      \"Table\": \"lc_conceptlist\",\\n      \"Column\": \"ConceptName\",\\n      \"Type\": \"longtext\",\\n      \"Null\": \"YES\",\\n      \"Precision\": null,\\n      \"Scale\": null,\\n      \"Key\": \"\",\\n      \"Comment\": \"概念名称\"\\n    },\\n    {\\n      \"Table\": \"lc_conceptlist\",\\n      \"Column\": \"BeginDate\",\\n      \"Type\": \"longtext\",\\n      \"Null\": \"YES\",\\n      \"Precision\": null,\\n      \"Scale\": null,\\n      \"Key\": \"\",\\n      \"Comment\": \"起始日期\"\\n    },\\n    {\\n      \"Table\": \"lc_conceptlist\",\\n      \"Column\": \"EndDate\",\\n      \"Type\": \"longtext\",\\n      \"Null\": \"YES\",\\n      \"Precision\": null,\\n      \"Scale\": null,\\n      \"Key\": \"\",\\n      \"Comment\": \"日期\"\\n    },\\n    {\\n      \"Table\": \"lc_conceptlist\",\\n      \"Column\": \"ConceptState\",\\n      \"Type\": \"bigint\",\\n      \"Null\": \"YES\",\\n      \"Precision\": 19,\\n      \"Scale\": 0,\\n      \"Key\": \"\",\\n      \"Comment\": \"所属状态\"\\n    },\\n    {\\n      \"Table\": \"lc_conceptlist\",\\n      \"Column\": \"Remark\",\\n      \"Type\": \"longtext\",\\n      \"Null\": \"YES\",\\n      \"Precision\": null,\\n      \"Scale\": null,\\n      \"Key\": \"\",\\n      \"Comment\": \"备注\"\\n    },\\n    {\\n      \"Table\": \"lc_conceptlist\",\\n      \"Column\": \"InfoPublDate\",\\n      \"Type\": \"longtext\",\\n      \"Null\": \"YES\",\\n      \"Precision\": null,\\n      \"Scale\": null,\\n      \"Key\": \"\",\\n      \"Comment\": \"信息发布日期\"\\n    },\\n    {\\n      \"Table\": \"lc_conceptlist\",\\n      \"Column\": \"UpdateTime\",\\n      \"Type\": \"longtext\",\\n      \"Null\": \"YES\",\\n      \"Precision\": null,\\n      \"Scale\": null,\\n      \"Key\": \"\",\\n      \"Comment\": \"更新时间\"\\n    },\\n    {\\n      \"Table\": \"lc_conceptlist\",\\n      \"Column\": \"JSID\",\\n      \"Type\": \"bigint\",\\n      \"Null\": \"YES\",\\n      \"Precision\": 19,\\n      \"Scale\": 0,\\n      \"Key\": \"\",\\n      \"Comment\": \"JSID\"\\n    },\\n    {\\n      \"Table\": \"lc_conceptlist\",\\n      \"Column\": \"ConceptEngName\",\\n      \"Type\": \"longtext\",\\n      \"Null\": \"YES\",\\n      \"Precision\": null,\\n      \"Scale\": null,\\n      \"Key\": \"\",\\n      \"Comment\": \"概念英文名称\"\\n    }\\n  ],\\n  \"count\": 15\\n}'"
      ]
     },
     "execution_count": 2,
     "metadata": {},
     "output_type": "execute_result"
    }
   ],
   "source": [
    "sql = \"\"\"\n",
    "    SELECT \n",
    "        TABLE_NAME AS `Table`, \n",
    "        COLUMN_NAME AS `Column`, \n",
    "        DATA_TYPE AS `Type`, \n",
    "        IS_NULLABLE AS `Null`, \n",
    "        NUMERIC_PRECISION AS `Precision`, \n",
    "        NUMERIC_SCALE AS `Scale`, \n",
    "        COLUMN_KEY AS `Key`, \n",
    "        COLUMN_COMMENT AS `Comment`\n",
    "    FROM \n",
    "        information_schema.COLUMNS \n",
    "    WHERE \n",
    "        TABLE_NAME = 'LC_ConceptList';\n",
    "\"\"\"\n",
    "\n",
    "utils.exec_sql(sql=sql)"
   ]
  },
  {
   "cell_type": "code",
   "execution_count": 8,
   "metadata": {},
   "outputs": [
    {
     "data": {
      "text/plain": [
       "'{\\n  \"success\": true,\\n  \"data\": [\\n    {\\n      \"ID\": 627131968161,\\n      \"InnerCode\": 148659,\\n      \"ConceptCode\": 11040004,\\n      \"InDate\": \"2019-11-18 12:00:00.000\",\\n      \"OutDate\": null,\\n      \"IndiState\": 1,\\n      \"Remark\": \"作为中国最早的证券分析软件开发商和证券信息服务商之一,指南针是全国首家赢富数据信息服务商,也是第一批获得深沪Level2数据授权的信息运营商。\",\\n      \"InfoPublDate\": \"2019-11-15 11:19:28.167\",\\n      \"UpdateTime\": \"2023-12-13 11:09:01.910\",\\n      \"JSID\": 755818071148\\n    },\\n    {\\n      \"ID\": 661873548563,\\n      \"InnerCode\": 1219,\\n      \"ConceptCode\": 11040004,\\n      \"InDate\": \"2020-12-21 12:00:00.000\",\\n      \"OutDate\": null,\\n      \"IndiState\": 1,\\n      \"Remark\": \"2020年8月15日公告披露：公司拟收购大智慧15%股份。标的公司是国内领先的互联网金融信息服务提供商，基于多年在证券和互联网领域取得的资源和技术积累，充分发挥大平台和大数据优势，打造了集资讯、服务、交易为一体的一站式、智能化互联网金融信息服务平台，向广大投资者提供各类基于互联网平台应用的金融信息产品和服务。\",\\n      \"InfoPublDate\": \"2020-12-21 01:45:48.573\",\\n      \"UpdateTime\": \"2023-12-13 11:04:47.833\",\\n      \"JSID\": 755817410443\\n    },\\n    {\\n      \"ID\": 661873548586,\\n      \"InnerCode\": 106644,\\n      \"ConceptCode\": 11040004,\\n      \"InDate\": \"2020-12-21 12:00:00.000\",\\n      \"OutDate\": null,\\n      \"IndiState\": 1,\\n      \"Remark\": \"互联网金融部作为公司总部业务部门，主要负责通过互联网渠道，运用互联网企业经营模式，建立健全公司面向互联网的业务体系，促进互联网开户、网上理财产品销售、网上证券交易、网上投资顾问等基础证券业务的开展等工作。\",\\n      \"InfoPublDate\": \"2020-12-21 01:45:48.617\",\\n      \"UpdateTime\": \"2023-12-13 11:08:30.723\",\\n      \"JSID\": 755817905252\\n    },\\n    {\\n      \"ID\": 687028896833,\\n      \"InnerCode\": 96038,\\n      \"ConceptCode\": 11040004,\\n      \"InDate\": \"2021-10-08 12:00:00.000\",\\n      \"OutDate\": null,\\n      \"IndiState\": 1,\\n      \"Remark\": \"公司较早成立了互联网证券部门，拥有线上服务自主研发和数据分析团队，于2014年12月获得了开展互联网证券业务试点资格，也是首批获得微信证券业务创新试点资格的证券公司。公司不断完善和优化公司金融产品和服务体系，坚持以客户为中心，为客户提供全面资产配置服务。同时，公司发挥互联网渠道获客优势和遍布全国主要城市的网点服务优势，在客户新增和客户服务体验方面均得到进一步提升。公司2020年荣获“最佳数字化财富管理APP奖”和“最具创意运营活动奖”等奖项。\",\\n      \"InfoPublDate\": \"2021-10-08 05:19:50.740\",\\n      \"UpdateTime\": \"2023-12-13 11:08:29.177\",\\n      \"JSID\": 755817898433\\n    }\\n  ],\\n  \"count\": 4\\n}'"
      ]
     },
     "execution_count": 8,
     "metadata": {},
     "output_type": "execute_result"
    }
   ],
   "source": [
    "# 3\n",
    "sql = \"\"\"\n",
    "SELECT *\n",
    "FROM AStockIndustryDB.LC_COConcept\n",
    "WHERE ConceptCode = 11040004\n",
    "\"\"\"\n",
    "utils.exec_sql(sql=sql)"
   ]
  },
  {
   "cell_type": "code",
   "execution_count": null,
   "metadata": {},
   "outputs": [],
   "source": []
  },
  {
   "cell_type": "markdown",
   "metadata": {},
   "source": []
  }
 ],
 "metadata": {
  "kernelspec": {
   "display_name": "base",
   "language": "python",
   "name": "python3"
  },
  "language_info": {
   "codemirror_mode": {
    "name": "ipython",
    "version": 3
   },
   "file_extension": ".py",
   "mimetype": "text/x-python",
   "name": "python",
   "nbconvert_exporter": "python",
   "pygments_lexer": "ipython3",
   "version": "3.9.7"
  }
 },
 "nbformat": 4,
 "nbformat_minor": 2
}
