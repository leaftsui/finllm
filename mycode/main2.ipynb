{
 "cells": [
  {
   "cell_type": "markdown",
   "metadata": {},
   "source": [
    "基于大模型启发式数据库图搜索算法\n",
    "一、构建数据库图\n",
    "节点（Nodes）：图中的每个节点代表数据库中的一个元素，可以是“库名”、“表名”或者“字段”。\n",
    "\n",
    "边（Edges）：边连接节点之间，表示它们之间的关系。边的权重可以由注释内容的相似度、关联度等因素确定，帮助启发式搜索判断不同节点之间的相关性。\n",
    "\n",
    "数据库图结构\n",
    "库名节点（Database Node）：\n",
    "包含数据库的基本信息（如库名、描述等）。\n",
    "\n",
    "表名节点（Table Node）：\n",
    "包含表的名称、描述和相关的字段。\n",
    "\n",
    "字段节点（Field Node）：\n",
    "包含字段名、字段描述、字段的注释。\n",
    "\n",
    "连接条件\n",
    "注释中显式的连接条件\n",
    "通过相同字段匹配的连接条件\n",
    "让大模型根据两张表的连接字段提取连接信息\n",
    "\n",
    "库名与表名之间的连接：表示某个库下包含了哪些表。\n",
    "表名与字段之间的连接：表示某个表包含了哪些字段。\n",
    "字段之间的连接：根据字段的注释内容进行连接。如果两个字段的注释有很高的相似度或者存在业务逻辑上的联系（如公司代码与公司名称），则在图中连接这些字段。\n",
    "\n",
    "库名-表名层： 连接每个库名与它所包含的表。\n",
    "\n",
    "表名-字段层： 连接表与它包含的字段，每个表下的字段形成一个子图。\n",
    "\n",
    "字段-字段层： 根据字段的注释内容（column_description），计算字段之间的相似度或相关性，建立边连接。\n",
    "\n",
    "二、图搜索算法\n",
    "\n",
    "\n",
    "\n",
    "三、启发式图搜索算法\n",
    "启发函数\n"
   ]
  },
  {
   "cell_type": "code",
   "execution_count": 2,
   "metadata": {},
   "outputs": [],
   "source": [
    "import pandas as pd\n",
    "import jieba\n",
    "import re\n",
    "import requests\n",
    "import json\n",
    "from zhipuai import ZhipuAI\n",
    "from collections import Counter\n",
    "from tqdm import tqdm\n",
    "import time\n",
    "from util import utils"
   ]
  },
  {
   "cell_type": "code",
   "execution_count": 3,
   "metadata": {},
   "outputs": [],
   "source": [
    "Access_Token = 'a30d01d4630a43b087a1f9851680902a'  # Competition team Token, used to access the competition database\n",
    "MODEL = \"glm-4-air\"  # Default large model used; this solution uses the GLM-4-PLUS model entirely\n",
    "client = ZhipuAI(api_key='f689043de7886e8c604802325fa16392.9m8y9PP2XBKP9ZJy')\n",
    "\n",
    "# Preprocess the competition questions here\n",
    "question_data_path = r'./data/raw/question.json'\n",
    "data_dict_path = \"./data/raw/data_dict.xlsx\"\n",
    "df1 = pd.read_excel(data_dict_path, sheet_name='库表关系')\n",
    "df2 = pd.read_excel(data_dict_path, sheet_name='表字段信息')\n",
    "file_path = './data/raw//all_tables_schema.txt'"
   ]
  },
  {
   "cell_type": "code",
   "execution_count": 4,
   "metadata": {},
   "outputs": [],
   "source": [
    "# df1['库表名英文'] = df1['库名英文'] + '.' + df1['表英文']\n",
    "# df1['库表名中文'] = df1['库名中文'] + '.' + df1['表中文']\n",
    "\n",
    "# database_name = list(df1['库名中文'])\n",
    "# table_name = list(df1['表中文'])\n",
    "# table_name_en = list(df1['表英文'])\n",
    "# database_table_ch = list(df1['库表名中文'])\n",
    "# database_table_en = list(df1['库表名英文'])\n",
    "# database_table_en_zs = {'库表名': database_table_en, '对应中文注释说明': table_name}\n",
    "# database_table_map = df1.set_index('库表名中文')['库表名英文'].to_dict()\n",
    "\n",
    "# database_L = []\n",
    "# database_L_zh = []\n",
    "# for i in table_name_en:\n",
    "#     df3 = df2[df2['table_name'] == i]\n",
    "#     name = df1[df1['表英文'] == i]['库表名英文'].iloc[0]\n",
    "#     column_name = list(df3['column_name'])\n",
    "#     column_name_zh = list(df3['column_description'])\n",
    "#     column_name_2 = list(df3['注释'].dropna())\n",
    "\n",
    "#     dict_1 = {'数据表名': name, '列名': column_name, '注释': column_name_2}\n",
    "#     dict_2 = {'数据表名': name, '列名': column_name, '列名中文描述': column_name_zh, '注释': column_name_2}\n",
    "#     database_L.append(dict_1)\n",
    "#     database_L_zh.append(dict_2)"
   ]
  },
  {
   "cell_type": "code",
   "execution_count": 11,
   "metadata": {},
   "outputs": [
    {
     "data": {
      "text/plain": [
       "'{\\n  \"success\": true,\\n  \"data\": [],\\n  \"count\": 0\\n}'"
      ]
     },
     "execution_count": 11,
     "metadata": {},
     "output_type": "execute_result"
    }
   ],
   "source": [
    "sql = \"\"\"\n",
    "SELECT DISTINCT a.InnerCode\n",
    "FROM AStockMarketQuotesDB.CS_StockPatterns AS a\n",
    "JOIN AStockMarketQuotesDB.CS_StockPatterns AS b\n",
    "  ON a.InnerCode = b.InnerCode\n",
    "  AND DATE(a.TradingDay) = DATE_SUB(DATE(b.TradingDay), INTERVAL 1 DAY)\n",
    "JOIN AStockMarketQuotesDB.QT_DailyQuote AS c\n",
    "  ON a.InnerCode = c.InnerCode\n",
    "  AND DATE(a.TradingDay) = DATE(c.TradingDay)\n",
    "JOIN AStockMarketQuotesDB.QT_DailyQuote AS d\n",
    "  ON b.InnerCode = d.InnerCode\n",
    "  AND DATE(b.TradingDay) = DATE(d.TradingDay)\n",
    "WHERE a.IfHighestHPriceRY = 1\n",
    "  AND b.IfHighestHPriceRY = 1\n",
    "  AND c.HighPrice > 75\n",
    "  AND d.HighPrice > 75\n",
    "  AND DATE(a.TradingDay) = '2021-12-24'\n",
    "  AND DATE(b.TradingDay) = '2021-12-23';\n",
    "\"\"\"\n",
    "\n",
    "utils.exec_sql(sql=sql)"
   ]
  },
  {
   "cell_type": "code",
   "execution_count": null,
   "metadata": {},
   "outputs": [],
   "source": []
  },
  {
   "cell_type": "code",
   "execution_count": null,
   "metadata": {},
   "outputs": [],
   "source": []
  }
 ],
 "metadata": {
  "kernelspec": {
   "display_name": "base",
   "language": "python",
   "name": "python3"
  },
  "language_info": {
   "codemirror_mode": {
    "name": "ipython",
    "version": 3
   },
   "file_extension": ".py",
   "mimetype": "text/x-python",
   "name": "python",
   "nbconvert_exporter": "python",
   "pygments_lexer": "ipython3",
   "version": "3.9.7"
  }
 },
 "nbformat": 4,
 "nbformat_minor": 2
}
