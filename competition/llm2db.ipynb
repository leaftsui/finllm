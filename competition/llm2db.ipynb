{
 "cells": [
  {
   "cell_type": "code",
   "execution_count": null,
   "id": "b8179110",
   "metadata": {},
   "outputs": [],
   "source": [
    "import pandas as pd\n",
    "import pandas as pd\n",
    "import json\n",
    "from zhipuai import ZhipuAI\n",
    "import re\n",
    "import requests\n",
    "fold = \"./新建文件夹/\"\n",
    "api_key=\"f689043de7886e8c604802325fa16392.9m8y9PP2XBKP9ZJy\"\n",
    "access_token=\"0099fe8c9593475d96195107b7acf7bd\""
   ]
  },
  {
   "cell_type": "code",
   "execution_count": null,
   "id": "dd5a896d",
   "metadata": {},
   "outputs": [],
   "source": [
    "\n",
    "# 读取Excel文件，这里假设文件名为 'your_file.xlsx'，你可以替换成实际的文件名及路径\n",
    "excel_file = pd.ExcelFile('数据字典.xlsx')\n",
    "\n",
    "# 获取第一个sheet页的内容\n",
    "first_sheet_data = excel_file.parse(0)  # 索引0代表第一个sheet页，也可以传入sheet页的名称\n",
    "a = excel_file.parse(0).to_json(orient=\"records\", force_ascii=False)\n",
    "\n",
    "# 获取第二个sheet页的内容\n",
    "second_sheet_data = excel_file.parse(1)  # 索引1代表第二个sheet页，同样也可传入sheet页的名称\n",
    "b = excel_file.parse(0).to_json(orient=\"records\", force_ascii=False)"
   ]
  },
  {
   "cell_type": "code",
   "execution_count": null,
   "id": "2b22b6c3",
   "metadata": {},
   "outputs": [],
   "source": [
    "\n",
    "d = []\n",
    "question = json.load(open(\"question.json\", 'r', encoding='utf-8'))\n",
    "for question_one in question:\n",
    "    chat_message = \"\"\n",
    "    for question_team in question_one['team']:\n",
    "        chat_message += question_team['question']\n",
    "        client = ZhipuAI(api_key=api_key) \n",
    "        response = client.chat.completions.create(\n",
    "            model=\"glm-4-air\",  \n",
    "            messages=[\n",
    "                {\"role\": \"user\", \"content\": \"\"\"已知以下数据库 \"\"\"+a+\"\"\" 确定解决问题 \"\"\"+chat_message+\"\"\" 所需要的库名与表名\"\"\" },\n",
    "                {\"role\": \"user\", \"content\": \"按照json格式返回 结构与数据库结构一致 只返回json其他的什么都不要逼逼\"}\n",
    "            ],\n",
    "        )\n",
    "\n",
    "        print(response.choices[0].message)\n",
    "        d.append({\"question\": question_team['question'],'历史对话':chat_message, '相关数据库字段': response.choices[0].message.content})\n",
    "        json.dump(d, open(\"从问题到数据库表结构.json\", 'w', encoding=\"utf-8\"), ensure_ascii=False)"
   ]
  },
  {
   "cell_type": "code",
   "execution_count": null,
   "id": "de2e8849",
   "metadata": {},
   "outputs": [],
   "source": [
    "\n",
    "# 读取Excel文件，这里假设文件名为 '数据字典.xlsx'，你可以替换成实际的文件名及路径\n",
    "excel_file = pd.ExcelFile('数据字典.xlsx')\n",
    "\n",
    "# 获取第一个sheet页的内容\n",
    "first_sheet_data = excel_file.parse(0)  # 索引0代表第一个sheet页，也可以传入sheet页的名称\n",
    "a = excel_file.parse(0).to_json(orient=\"records\", force_ascii=False)\n",
    "\n",
    "# 获取第二个sheet页的内容\n",
    "second_sheet_data = excel_file.parse(1)  # 索引1代表第二个sheet页，同样也可传入sheet页的名称\n",
    "b = excel_file.parse(1).to_json(orient=\"records\", force_ascii=False)\n",
    "import json\n",
    "\n",
    "b_data = json.loads(b)\n",
    "从问题到数据库结构 = json.load(open(\"从问题到数据库结构.json\",'r',encoding=\"utf-8\"))\n",
    "for i in 从问题到数据库结构:\n",
    "    i[\"相关数据字段\"] = []\n",
    "    for j in b_data:\n",
    "        try:\n",
    "            if j['table_name'] in i['相关数据库字段']:\n",
    "                i[\"相关数据字段\"].append(j)\n",
    "        except:\n",
    "            continue\n",
    "json.dump(从问题到数据库结构,open(\"根据库表结构匹配字段.json\",'w'),ensure_ascii=False)"
   ]
  },
  {
   "cell_type": "code",
   "execution_count": null,
   "id": "505a3645",
   "metadata": {},
   "outputs": [],
   "source": [
    "\n",
    "d = []\n",
    "question = json.load(open(\"根据库表结构匹配字段.json\", 'r', encoding='utf-8'))\n",
    "for question_one in 从问题到数据库结构:\n",
    "        client = ZhipuAI(api_key=api_key)  # 请填写您自己的APIKey\n",
    "        response = client.chat.completions.create(\n",
    "            model=\"glm-4-air\",  # 请填写您要调用的模型名称\n",
    "            messages=[\n",
    "                {\"role\": \"user\", \"content\": \"\"\"解决问题：\"\"\" + str(question_one['历史对话'])+\"需要以下哪些数据库字段支持：\"+str(question_one['相关数据库字段'])},\n",
    "                {\"role\": \"user\", \"content\": \"按照数据库字段的json格式返回\"}\n",
    "            ],\n",
    "        )\n",
    "\n",
    "        print(response.choices[0].message)\n",
    "        question_one['适配字段'] = response.choices[0].message.content\n",
    "        d.append(question_one)\n",
    "        json.dump(d, open(\"根据问题+表结构+字段找到适配字段.json\", 'w', encoding=\"utf-8\"), ensure_ascii=False)"
   ]
  },
  {
   "cell_type": "code",
   "execution_count": null,
   "id": "918c259d",
   "metadata": {},
   "outputs": [],
   "source": [
    "\n",
    "d = []\n",
    "question = json.load(open(\"根据问题+表结构+字段找到适配字段.json\", 'r', encoding='utf-8'))\n",
    "for question_one in question:\n",
    "        question_one.pop('相关数据库字段')\n",
    "        client = ZhipuAI(api_key=api_key)  # 请填写您自己的APIKey\n",
    "        response = client.chat.completions.create(\n",
    "            model=\"glm-4-air\",  # 请填写您要调用的模型名称\n",
    "            messages=[\n",
    "                {\"role\": \"user\", \"content\": \"\"\"示例sql ：SELECT * FROM constantdb.secumain LIMIT 10 \n",
    "                要求 库名.表名 按照需求来进行sql生成 不是让你改写这个sql 然你根据问题和增强信息来生成一段可以解决问题的sql\n",
    "                已知：\"\"\" + str(question_one)},\n",
    "                {\"role\": \"user\", \"content\": \"按照sql格式返回\"}\n",
    "            ],\n",
    "        )\n",
    "\n",
    "        print(response.choices[0].message.content)\n",
    "        question_one['sql'] = response.choices[0].message.content\n",
    "        d.append(question_one)\n",
    "        json.dump(d, open(\"根据问题+表结构+字段生成sql.json\", 'w', encoding=\"utf-8\"), ensure_ascii=False)\n"
   ]
  },
  {
   "cell_type": "code",
   "execution_count": null,
   "id": "0856a3f7",
   "metadata": {
    "scrolled": true
   },
   "outputs": [],
   "source": [
    "data = json.load(open(fold+\"根据问题+表结构+字段生成sql.json\", 'r', encoding='utf-8'))"
   ]
  },
  {
   "cell_type": "code",
   "execution_count": null,
   "id": "e2b1dd5a",
   "metadata": {},
   "outputs": [],
   "source": [
    "pattern = r'(?s)\\```sql\\n(.*?)\\n\\```'\n",
    "# 假设 data 是你的数据源\n",
    "d = []\n",
    "for item in data:\n",
    "    if isinstance(item, dict) and \"sql\" in item:\n",
    "        sql_statement = item[\"sql\"]\n",
    "    match = re.search(pattern, sql_statement)\n",
    "    if match:\n",
    "        extracted_sql = match.group(1)\n",
    "        d.append(extracted_sql)\n",
    "        with open(fold+'sql.json', 'w', encoding='utf-8') as f:\n",
    "            json.dump(d, f, ensure_ascii=False, indent=4)"
   ]
  },
  {
   "cell_type": "code",
   "execution_count": null,
   "id": "f69f681b",
   "metadata": {},
   "outputs": [],
   "source": [
    "data = json.load(open(fold+\"sql.json\", 'r', encoding='utf-8'))"
   ]
  },
  {
   "cell_type": "code",
   "execution_count": null,
   "id": "b76fed42",
   "metadata": {},
   "outputs": [],
   "source": [
    "d = []\n",
    "for item in data:\n",
    "    url = \"https://comm.chatglm.cn/finglm2/api/query\"\n",
    "    headers = {\n",
    "        \"Content-Type\": \"application/json\",\n",
    "        \"Authorization\": \"Bearer \"+access_token\n",
    "    }\n",
    "    data = {\n",
    "        \"sql\": item,\n",
    "        \"limit\": 10\n",
    "    }\n",
    "    response = requests.post(url, headers=headers, json=data)\n",
    "    result = response.json()\n",
    "\n",
    "    # 将结果追加到sql_data_one列表中\n",
    "    d.append(result)\n",
    "    # 每次追加后立即保存到JSON文件\n",
    "    with open(fold+'result.json', 'w', encoding='utf-8') as f:\n",
    "        json.dump(d, f, ensure_ascii=False, indent=4)"
   ]
  },
  {
   "cell_type": "code",
   "execution_count": null,
   "id": "5ddefdde",
   "metadata": {},
   "outputs": [],
   "source": [
    "def llm_chat(api_key,content):\n",
    "        client = ZhipuAI(api_key=api_key)  \n",
    "        response = client.chat.completions.create(\n",
    "            model=\"glm-4-air\", \n",
    "            messages=[\n",
    "                {\"role\": \"user\", \"content\": content},\n",
    "            ],\n",
    "        )\n",
    "        return response.choices[0].message.content\n",
    "    \n",
    "def laod_json(file):\n",
    "    return json.load(open(file, 'r', encoding='utf-8'))\n",
    "\n",
    "def write_json(file,d):\n",
    "    with open(file, 'w', encoding='utf-8') as f:\n",
    "        json.dump(d, f, ensure_ascii=False, indent=4)"
   ]
  },
  {
   "cell_type": "code",
   "execution_count": null,
   "id": "fa63f533",
   "metadata": {},
   "outputs": [],
   "source": [
    "llm_chat(api_key,\"你好\")"
   ]
  },
  {
   "cell_type": "code",
   "execution_count": 136,
   "id": "0121b0cd",
   "metadata": {},
   "outputs": [],
   "source": [
    "result = json.load(open(fold+\"result.json\", 'r', encoding='utf-8'))\n",
    "example = json.load(open(\"submit_example.json\", 'r', encoding='utf-8'))\n",
    "question_all = json.load(open(fold+'question_all.json', 'r', encoding='utf-8'))"
   ]
  },
  {
   "cell_type": "code",
   "execution_count": 137,
   "id": "032c86a2",
   "metadata": {},
   "outputs": [],
   "source": [
    "d = []\n",
    "i = 0\n",
    "for item in example:\n",
    "    for team in item[\"team\"]:\n",
    "        q = team[\"question\"]\n",
    "        r = result[i]\n",
    "        if \"data\" in r:\n",
    "            prompt = \"请你根据查询结果回答问题，问题如下:\\n\"+q+\"\\n查询结果如下:\\n\"+str(r[\"data\"])+\"\\n\"\n",
    "            answer = llm_chat(api_key,prompt)\n",
    "            team[\"answer\"] = answer\n",
    "            with open(fold+'answer2.json', 'w', encoding='utf-8') as f:\n",
    "                json.dump(example, f, ensure_ascii=False, indent=4)\n",
    "        i=i+1\n"
   ]
  },
  {
   "cell_type": "code",
   "execution_count": null,
   "id": "108f6ab2",
   "metadata": {},
   "outputs": [],
   "source": [
    "from tqdm import tqdm\n",
    "d = []\n",
    "for i in tqdm(range(len(question_all)), desc=\"Processing\", unit=\"item\"):\n",
    "    r = result[i]\n",
    "    if \"data\" in r:\n",
    "        q = question_all[i]\n",
    "        prompt = \"请你根据查询结果回答问题，问题如下:\\n\"+q+\"\\n查询结果如下:\\n\"+str(r[\"data\"])+\"\\n\"\n",
    "        answer = llm_chat(api_key,prompt)\n",
    "        d.append(answer)\n",
    "        with open(fold+'sql2answer.json', 'w', encoding='utf-8') as f:\n",
    "            json.dump(d, f, ensure_ascii=False, indent=4)"
   ]
  },
  {
   "cell_type": "code",
   "execution_count": null,
   "id": "79ccc7e3",
   "metadata": {},
   "outputs": [],
   "source": [
    "example = json.load(open(\"submit_example.json\", 'r', encoding='utf-8'))\n"
   ]
  },
  {
   "cell_type": "code",
   "execution_count": null,
   "id": "5f6ab57f",
   "metadata": {},
   "outputs": [],
   "source": [
    "i = 0\n",
    "for item in example:\n",
    "    for team in item[\"team\"]:\n",
    "        q = team[\"question\"]"
   ]
  },
  {
   "cell_type": "code",
   "execution_count": null,
   "id": "492cf85b",
   "metadata": {},
   "outputs": [],
   "source": []
  }
 ],
 "metadata": {
  "kernelspec": {
   "display_name": "Python 3 (ipykernel)",
   "language": "python",
   "name": "python3"
  },
  "language_info": {
   "codemirror_mode": {
    "name": "ipython",
    "version": 3
   },
   "file_extension": ".py",
   "mimetype": "text/x-python",
   "name": "python",
   "nbconvert_exporter": "python",
   "pygments_lexer": "ipython3",
   "version": "3.9.7"
  },
  "toc": {
   "base_numbering": 1,
   "nav_menu": {},
   "number_sections": true,
   "sideBar": true,
   "skip_h1_title": false,
   "title_cell": "Table of Contents",
   "title_sidebar": "Contents",
   "toc_cell": false,
   "toc_position": {},
   "toc_section_display": true,
   "toc_window_display": false
  }
 },
 "nbformat": 4,
 "nbformat_minor": 5
}
